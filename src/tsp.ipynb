{
 "cells": [
  {
   "cell_type": "code",
   "execution_count": 24,
   "metadata": {},
   "outputs": [],
   "source": [
    "from collections import defaultdict\n",
    "import queue\n",
    "import numpy as np\n",
    "import sys\n",
    "\n",
    "def dpTsp(graph):\n",
    "    n = len(graph)\n",
    "    nodes = set(range(n))\n",
    "    costtogo = defaultdict(int)\n",
    "\n",
    "    # print(n)\n",
    "    # print(nodes)\n",
    "    # print(costtogo)\n",
    "    for i in range(n):\n",
    "        for j in range(n):\n",
    "            count += 1\n",
    "    mem = defaultdict(lambda: np.zeros(count, dtype=list))\n",
    "    #mem = {(tuple([i]), i): tuple([0, None]) for i in range(n)}\n",
    "    queue = [(tuple([i]), i) for i in range(n)]\n",
    "    # print(queue)\n",
    "    # print(mem)\n",
    "\n",
    "    while queue:\n",
    "        lastvisited, lastnode = queue.pop(0)\n",
    "        lastdistance, _ = mem[(lastvisited, lastnode)]\n",
    "\n",
    "        for nextnode in nodes - set(lastvisited):\n",
    "            currentVisited = tuple(sorted(list(lastvisited) + [nextnode]))\n",
    "            currentDistance = lastdistance + graph[lastnode][nextnode]\n",
    "\n",
    "            costtogo[currentVisited] = currentDistance\n",
    "\n",
    "            mem[(currentVisited, nextnode)] = (currentDistance, lastnode)\n",
    "            queue.append((currentVisited, nextnode))\n",
    "\n",
    "    print(costtogo)\n"
   ]
  },
  {
   "cell_type": "code",
   "execution_count": 71,
   "metadata": {},
   "outputs": [],
   "source": [
    "a = 1\n",
    "graph = np.array([[0, 2, 1, 1],[2, 0, a, 2],[1, a, 0, 1],[1, 2, 1, 0]])\n",
    "\n",
    "costToGo = defaultdict(int)\n",
    "\n",
    "def stringConverter(visited):\n",
    "    string = \"\"\n",
    "    #print(\"from string visited : \", visited)\n",
    "    for i in visited:\n",
    "        string += str(chr(i + 65))\n",
    "    #print(\"from string : \", string)\n",
    "    return string\n",
    "\n",
    "\n",
    "def tsp(visited, cost, neighbours):\n",
    "    if len(visited) == len(graph):\n",
    "        costToGo[stringConverter(visited)] = cost + graph[visited[-1]][visited[0]]\n",
    "        return\n",
    "    else:\n",
    "        # for j in range(len(graph)):\n",
    "        #     for i in [x for x in range(len(graph)) if x not in visited]:\n",
    "        #         if j != i and j !=0:\n",
    "        #             cost = tsp(np.delete(visited, i), j) + graph[j][i]\n",
    "        #             print (str(i),\"to\",str(j), \"cost\", cost)\n",
    "        #             visited[j] = 1\n",
    "        for i in neighbours:\n",
    "            if i != 0:\n",
    "                #visiting the neighbour\n",
    "                newVisited = visited.copy() + [i]\n",
    "                #removing visited neighbour from to visit list\n",
    "                newNeighbours = neighbours.copy()\n",
    "                newNeighbours.remove(i)\n",
    "                #print(\"from tsp : \",stringConverter(newVisited))\n",
    "                costToGo[stringConverter(newVisited)] = cost + graph[visited[-1]][i]\n",
    "                tsp(newVisited, cost + graph[visited[-1]][i], newNeighbours)\n",
    "\n",
    "        return costToGo\n"
   ]
  },
  {
   "cell_type": "code",
   "execution_count": 72,
   "metadata": {},
   "outputs": [
    {
     "name": "stdout",
     "output_type": "stream",
     "text": [
      "defaultdict(<class 'int'>, {'AB': 2, 'ABC': 3, 'ABCD': 5, 'ABD': 4, 'ABDC': 6, 'AC': 1, 'ACB': 2, 'ACBD': 5, 'ACD': 2, 'ACDB': 6, 'AD': 1, 'ADB': 3, 'ADBC': 5, 'ADC': 2, 'ADCB': 5})\n"
     ]
    }
   ],
   "source": [
    "if __name__ == \"__main__\":\n",
    "    sys.setrecursionlimit(2500)\n",
    "    #dpTsp(graph)\n",
    "    #visited = np.zeros(4, dtype=int)\n",
    "\n",
    "    start = 0\n",
    "    init_cost = 0\n",
    "    init_neighbours = [i for i in range(len(graph))]\n",
    "    answers = tsp([start], init_cost, init_neighbours)\n",
    "\n",
    "\n",
    "    print(answers)"
   ]
  }
 ],
 "metadata": {
  "kernelspec": {
   "display_name": "Python 3.10.6 ('torch-gpu')",
   "language": "python",
   "name": "python3"
  },
  "language_info": {
   "codemirror_mode": {
    "name": "ipython",
    "version": 3
   },
   "file_extension": ".py",
   "mimetype": "text/x-python",
   "name": "python",
   "nbconvert_exporter": "python",
   "pygments_lexer": "ipython3",
   "version": "3.10.6"
  },
  "orig_nbformat": 4,
  "vscode": {
   "interpreter": {
    "hash": "ce1f1375070ea9b4174aadfc0f685d47348ab8b5c63ec34527925138a71bb321"
   }
  }
 },
 "nbformat": 4,
 "nbformat_minor": 2
}
