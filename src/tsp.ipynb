{
 "cells": [
  {
   "cell_type": "code",
   "execution_count": 19,
   "metadata": {},
   "outputs": [],
   "source": [
    "from collections import defaultdict\n",
    "import queue\n",
    "import numpy as np\n",
    "\n",
    "def dpTsp(graph):\n",
    "    n = len(graph)\n",
    "    nodes = set(range(n))\n",
    "    costtogo = defaultdict(int)\n",
    "\n",
    "    # print(n)\n",
    "    # print(nodes)\n",
    "    # print(costtogo)\n",
    "    mem = {(tuple([i]), i): tuple([0, None]) for i in range(n)}\n",
    "    queue = [(tuple([i]), i) for i in range(n)]\n",
    "    # print(queue)\n",
    "    # print(mem)\n",
    "\n",
    "    while queue:\n",
    "        lastvisited, lastnode = queue.pop(0)\n",
    "        lastdistance, _ = mem[(lastvisited, lastnode)]\n",
    "\n",
    "        for nextnode in nodes - set(lastvisited):\n",
    "            currentVisited = tuple(sorted(list(lastvisited) + [nextnode]))\n",
    "            currentDistance = lastdistance + graph[lastnode][nextnode]\n",
    "\n",
    "            costtogo[currentVisited] = currentDistance\n",
    "\n",
    "            mem[(currentVisited, nextnode)] = (currentDistance, lastnode)\n",
    "            queue.append((currentVisited, nextnode))\n",
    "\n",
    "    print(costtogo)\n"
   ]
  },
  {
   "cell_type": "code",
   "execution_count": 20,
   "metadata": {},
   "outputs": [
    {
     "name": "stdout",
     "output_type": "stream",
     "text": [
      "defaultdict(<class 'int'>, {(0, 1): 2, (0, 2): 1, (0, 3): 1, (1, 2): 1, (1, 3): 2, (2, 3): 1, (0, 1, 2): 3, (0, 1, 3): 4, (0, 2, 3): 2, (1, 2, 3): 2, (0, 1, 2, 3): 4})\n"
     ]
    }
   ],
   "source": [
    "if __name__ == \"__main__\":\n",
    "    graph = np.array([[0, 2, 1, 1], [2, 0, 1, 2], [1, 1, 0, 1], [1, 2, 1, 0]])\n",
    "    dpTsp(graph)"
   ]
  }
 ],
 "metadata": {
  "kernelspec": {
   "display_name": "Python 3.10.6 ('torch-gpu')",
   "language": "python",
   "name": "python3"
  },
  "language_info": {
   "codemirror_mode": {
    "name": "ipython",
    "version": 3
   },
   "file_extension": ".py",
   "mimetype": "text/x-python",
   "name": "python",
   "nbconvert_exporter": "python",
   "pygments_lexer": "ipython3",
   "version": "3.10.6"
  },
  "orig_nbformat": 4,
  "vscode": {
   "interpreter": {
    "hash": "ce1f1375070ea9b4174aadfc0f685d47348ab8b5c63ec34527925138a71bb321"
   }
  }
 },
 "nbformat": 4,
 "nbformat_minor": 2
}
